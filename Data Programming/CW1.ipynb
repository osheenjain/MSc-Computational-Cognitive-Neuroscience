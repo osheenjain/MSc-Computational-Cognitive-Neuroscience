{
 "cells": [
  {
   "cell_type": "markdown",
   "id": "caecf2a7",
   "metadata": {},
   "source": [
    "# Data Programming In Python\n"
   ]
  },
  {
   "cell_type": "markdown",
   "id": "1a60b836",
   "metadata": {},
   "source": [
    "# Coursework 1"
   ]
  },
  {
   "cell_type": "markdown",
   "id": "64efe152",
   "metadata": {},
   "source": [
    "# Exploratory Data Analysis and Crime Prediction across London Boroughs\n",
    "\n"
   ]
  },
  {
   "cell_type": "markdown",
   "id": "5510cd45",
   "metadata": {},
   "source": [
    "1. Introduction\n",
    "       1.1 Motivation\n",
    "       1.2 Aims and Objective\n",
    "       1.3 Problem Formulation\n",
    "1. EDA\n",
    "        2.1 Import Python Modules\n",
    "        2.2 Dataset Import\n",
    "        2.3 Combining Datasets\n",
    "        2.4 Remove Redundant Columns\n",
    "        2.5 Remove Duplicates\n",
    "        2.6 Remove wrong data(Outliers)\n",
    "        2.7 Handle Missing Values\n",
    "1. Expolatory Data Analysis\n",
    "1. Limitations and Challenges\n",
    "1. Conclusion\n",
    "1. Future Work"
   ]
  },
  {
   "cell_type": "markdown",
   "id": "5c7e42d9",
   "metadata": {},
   "source": [
    "## 1.1 Motivation\n",
    "\n",
    "\n",
    "One of the main factors determining a city's quality of life is the crime rate. A city with a high crime rate is often seen as unsafe and uninviting, making it difficult to enjoy life there. On the other hand, a city with a low crime rate is often seen as more desirable, making it easier to enjoy life in the city. Of course, other factors can affect the quality of life in a city, but the crime rate is one of the most important.\n",
    "\n",
    "There's no question that the crime rate in a city directly impacts the quality of life of its residents. A high crime rate means more fear and insecurity, which can lead to all sorts of problems. It's hard to feel safe in your own home if you're constantly worried about being burglarized or attacked. And, of course, the stress comes with living in a dangerous place.\n",
    "\n",
    "But it's not just the fear and stress that can make life in a high-crime city difficult. It can also make everyday tasks like getting around town or running errands a lot more complicated and time-consuming. It takes much longer to get places and do things if you're always looking for danger.\n",
    "\n",
    "In short, a high crime rate can have a serious impact on the quality of life in a city. If you're considering moving to a new city, be sure to do your research and make sure you're moving to a place where you'll feel safe and secure.\n",
    "\n",
    "A high crime rate can have a number of consequences for a community. It can make it more difficult for people to feel safe in their homes and in public spaces. It can also lead to a higher cost for insurance, as well as higher taxes to pay for law enforcement and other services needed to combat crime. Additionally, a high crime rate can have a negative impact on the economy, as businesses may be less likely to locate in a community with a high crime rate."
   ]
  },
  {
   "cell_type": "markdown",
   "id": "52cbbe23",
   "metadata": {},
   "source": [
    "## 1.2 Aims and Objectives\n",
    "\n",
    "The crime rates in London in 2022 are a cause for concern. According to the Metropolitan Police Service, the crime rate has increased by 20% in the past year. The most common crimes are vandalism, theft, and assault. There has been a recent spike in knife crime, and the murder rate is the highest it has been in a decade. Mayor Sadiq Khan has pledged to take action to reduce crime, but it is unclear what measures he will take."
   ]
  },
  {
   "cell_type": "markdown",
   "id": "86442da1",
   "metadata": {},
   "source": [
    "## 1.3 Problem Formulation\n",
    "\n",
    "The problem being tackled in this research can be best explained in two distinct\n",
    "parts:\n",
    "\n",
    "        1.3.1 Performing exploratory analysis of the data to mine patterns in crime\n",
    "\n",
    "The first step in determining the safety within different areas in the city is analyzing the spread and impact of the crime. The data provided by London Government will be used to perform exploratory analysis and observe existing patterns in the crime throughout all the borough of the city of London.\n",
    "\n",
    "The aim is to study the crime spread in London based on the geographical location of each crime, the possible areas of victimization on the streets, seasonal changes in the crime rate and the type, and the hourly variations in crime.\n",
    "\n",
    "        1.3.2. Building a prediction model to predict the type of crime that can take place in\n",
    "\n",
    "After observing the patterns of crime from the historical data in this coursework, the next thing is to predict the crimes that can occur in the future. The goal is to build a prediction model that treats this problem as a multiclass classification problem, by classifying the unseen data into one of the crime categories (classes) thereby predicting the crime that can occur. Such data is expected to help the police plan their patrol and effectively contribute to building a smarter city.\n",
    "\n",
    "For the first part of the coursework, various Python libraries and data analytics tools will be used for initial data preprocessing, to analyze the spread of the crime in the city. For the second part of the coursework, in order to build a prediction model, the result of existing models will be improved by experimenting with different types of algorithms. "
   ]
  },
  {
   "cell_type": "markdown",
   "id": "4dbe5eee",
   "metadata": {},
   "source": [
    "## 2. EDA\n",
    "        \n",
    "        \n"
   ]
  },
  {
   "cell_type": "markdown",
   "id": "a9250d49",
   "metadata": {},
   "source": [
    "## 2.1 Import Python Modules\n",
    "\n",
    "The modules required for the first part of the coursework were imported accordingly from various python libraries. \n",
    "\n",
    "\n"
   ]
  },
  {
   "cell_type": "code",
   "execution_count": 1,
   "id": "f49c8930",
   "metadata": {},
   "outputs": [],
   "source": [
    "#Import libraries and modules\n",
    "\n",
    "# Basic Analysis and Visualization\n",
    "import numpy as np\n",
    "import pandas as pd\n",
    "import glob\n",
    "\n",
    "# parse HTML documents\n",
    "import requests\n",
    "from bs4 import BeautifulSoup \n"
   ]
  },
  {
   "cell_type": "markdown",
   "id": "b0b1b299",
   "metadata": {},
   "source": [
    "## 2.2 Data Collection\n",
    "\n",
    "London's police force is divided by two regions: Greater London and the City of London. The [City of London Police](https://www.cityoflondon.police.uk/) is the territorial police force responsible for law enforcement within the City of London. Where as, the [Metropolitan Police](https://www.met.police.uk/), a much larger and a separate organisation is responsible for law enforcement within the remainder of the London region, outside the city, also knows as Greater London. \n",
    "\n",
    "\n",
    "#### 2.2.1 Crime rate (Primary Dataset)\n",
    "So, to analyse the crime rates in London, the data was taken from [https://data.police.uk/data/](https://data.police.uk/data/). From the list of all police forces across United Kingdom, boxes for both City of London Police and Metropolitan Police Service were included. As for the remainder of three options, only ‘crime data’ and ‘Stop and Search’ data was included. The reason for not including the ‘outcomes data’ was because the option would generate a separate file for data which is already included in the crime data csv. This step generated separate csv files for monthly crime data recorded by both police forces: City of London Police and Metropolitan Police Service. "
   ]
  },
  {
   "cell_type": "code",
   "execution_count": 2,
   "id": "4bfa3501",
   "metadata": {},
   "outputs": [
    {
     "name": "stdout",
     "output_type": "stream",
     "text": [
      "2019-10-city-of-london-street.csv\n",
      "2019-10-metropolitan-street.csv\n",
      "2019-11-city-of-london-street.csv\n",
      "2019-11-metropolitan-street.csv\n",
      "2019-12-city-of-london-street.csv\n",
      "2019-12-metropolitan-street.csv\n",
      "2020-01-city-of-london-street.csv\n",
      "2020-01-metropolitan-street.csv\n",
      "2020-02-city-of-london-street.csv\n",
      "2020-02-metropolitan-street.csv\n",
      "2020-03-city-of-london-street.csv\n",
      "2020-03-metropolitan-street.csv\n",
      "2020-04-city-of-london-street.csv\n",
      "2020-04-metropolitan-street.csv\n",
      "2020-05-city-of-london-street.csv\n",
      "2020-05-metropolitan-street.csv\n",
      "2020-06-city-of-london-street.csv\n",
      "2020-06-metropolitan-street.csv\n",
      "2020-07-city-of-london-street.csv\n",
      "2020-07-metropolitan-street.csv\n",
      "2020-08-city-of-london-street.csv\n",
      "2020-08-metropolitan-street.csv\n",
      "2020-09-city-of-london-street.csv\n",
      "2020-09-metropolitan-street.csv\n",
      "2020-10-city-of-london-street.csv\n",
      "2020-10-metropolitan-street.csv\n",
      "2020-11-city-of-london-street.csv\n",
      "2020-11-metropolitan-street.csv\n",
      "2020-12-city-of-london-street.csv\n",
      "2020-12-metropolitan-street.csv\n",
      "2021-01-city-of-london-street.csv\n",
      "2021-01-metropolitan-street.csv\n",
      "2021-02-city-of-london-street.csv\n",
      "2021-02-metropolitan-street.csv\n",
      "2021-03-city-of-london-street.csv\n",
      "2021-03-metropolitan-street.csv\n",
      "2021-04-city-of-london-street.csv\n",
      "2021-04-metropolitan-street.csv\n",
      "2021-05-city-of-london-street.csv\n",
      "2021-05-metropolitan-street.csv\n",
      "2021-06-city-of-london-street.csv\n",
      "2021-06-metropolitan-street.csv\n",
      "2021-07-city-of-london-street.csv\n",
      "2021-07-metropolitan-street.csv\n",
      "2021-08-city-of-london-street.csv\n",
      "2021-08-metropolitan-street.csv\n",
      "2021-09-city-of-london-street.csv\n",
      "2021-09-metropolitan-street.csv\n",
      "2021-10-city-of-london-street.csv\n",
      "2021-10-metropolitan-street.csv\n",
      "2021-11-city-of-london-street.csv\n",
      "2021-11-metropolitan-street.csv\n",
      "2021-12-city-of-london-street.csv\n",
      "2021-12-metropolitan-street.csv\n",
      "2022-01-city-of-london-street.csv\n",
      "2022-01-metropolitan-street.csv\n",
      "2022-02-city-of-london-street.csv\n",
      "2022-02-metropolitan-street.csv\n",
      "2022-03-city-of-london-street.csv\n",
      "2022-03-metropolitan-street.csv\n",
      "2022-04-city-of-london-street.csv\n",
      "2022-04-metropolitan-street.csv\n",
      "2022-05-city-of-london-street.csv\n",
      "2022-05-metropolitan-street.csv\n",
      "2022-06-metropolitan-street.csv\n",
      "2022-07-city-of-london-street.csv\n",
      "2022-07-metropolitan-street.csv\n",
      "2022-08-city-of-london-street.csv\n",
      "2022-08-metropolitan-street.csv\n",
      "2022-09-city-of-london-street.csv\n",
      "2022-09-metropolitan-street.csv\n"
     ]
    }
   ],
   "source": [
    "# list all the csv files in the relative path\n",
    "for f in glob.glob(\"*.csv\"):\n",
    "    print(f)"
   ]
  },
  {
   "cell_type": "markdown",
   "id": "d96aa829",
   "metadata": {},
   "source": []
  },
  {
   "cell_type": "markdown",
   "id": "538315cf",
   "metadata": {},
   "source": [
    "## 2.3 Combining Datasets\n",
    "\n",
    "71 seprate csv files were downloaded as a part of the primary dataset containing all police reported crimes between October 2020 to September 2022. \n",
    "\n",
    "Data from both police forces will be concataned in a single file for pre-processing and analysis. "
   ]
  },
  {
   "cell_type": "code",
   "execution_count": 3,
   "id": "9b791b7d",
   "metadata": {},
   "outputs": [
    {
     "name": "stdout",
     "output_type": "stream",
     "text": [
      "                                                Crime ID    Month  \\\n",
      "0                                                    NaN  2019-10   \n",
      "1      347cacb0d02bdb756998b54d7487407bcf6f171ba72f6c...  2019-10   \n",
      "2      a53440d933613bf927349c9af506c2a2e49bb72786fefd...  2019-10   \n",
      "3      24a8afd5512e09b44b272db7bee560cb458fc718a11ed7...  2019-10   \n",
      "4                                                    NaN  2019-10   \n",
      "...                                                  ...      ...   \n",
      "85823  8c7516073095ad86f7fa2eed88033e565627546c560134...  2022-09   \n",
      "85824  e3f86085fc533b5bebeaa5b5fdfae51f3a4c879a4c9231...  2022-09   \n",
      "85825  acb271fa590e8fa5319a51618e94710026b02d73e31ebd...  2022-09   \n",
      "85826  9ea2a138ddf72acdaeab4365eda3f4fa86de6bd2fed466...  2022-09   \n",
      "85827  dac466cf34a0ad5341ab52e72eeb4de204b42f4d25c352...  2022-09   \n",
      "\n",
      "                       Reported by                 Falls within  Longitude  \\\n",
      "0            City of London Police        City of London Police  -0.111497   \n",
      "1            City of London Police        City of London Police  -0.112422   \n",
      "2            City of London Police        City of London Police  -0.111497   \n",
      "3            City of London Police        City of London Police  -0.111962   \n",
      "4            City of London Police        City of London Police  -0.095914   \n",
      "...                            ...                          ...        ...   \n",
      "85823  Metropolitan Police Service  Metropolitan Police Service        NaN   \n",
      "85824  Metropolitan Police Service  Metropolitan Police Service        NaN   \n",
      "85825  Metropolitan Police Service  Metropolitan Police Service        NaN   \n",
      "85826  Metropolitan Police Service  Metropolitan Police Service        NaN   \n",
      "85827  Metropolitan Police Service  Metropolitan Police Service        NaN   \n",
      "\n",
      "        Latitude                      Location  LSOA code  \\\n",
      "0      51.518226  On or near Pedestrian Subway  E01000914   \n",
      "1      51.515381          On or near Star Yard  E01000914   \n",
      "2      51.518226  On or near Pedestrian Subway  E01000914   \n",
      "3      51.518494          On or near Nightclub  E01000914   \n",
      "4      51.520348       On or near Beech Street  E01000001   \n",
      "...          ...                           ...        ...   \n",
      "85823        NaN                   No Location        NaN   \n",
      "85824        NaN                   No Location        NaN   \n",
      "85825        NaN                   No Location        NaN   \n",
      "85826        NaN                   No Location        NaN   \n",
      "85827        NaN                   No Location        NaN   \n",
      "\n",
      "                 LSOA name                    Crime type  \\\n",
      "0              Camden 028B         Anti-social behaviour   \n",
      "1              Camden 028B                   Other theft   \n",
      "2              Camden 028B                   Other theft   \n",
      "3              Camden 028B  Violence and sexual offences   \n",
      "4      City of London 001A         Anti-social behaviour   \n",
      "...                    ...                           ...   \n",
      "85823                  NaN                   Other crime   \n",
      "85824                  NaN                   Other crime   \n",
      "85825                  NaN                   Other crime   \n",
      "85826                  NaN                   Other crime   \n",
      "85827                  NaN                   Other crime   \n",
      "\n",
      "                               Last outcome category  Context  \n",
      "0                                                NaN      NaN  \n",
      "1      Investigation complete; no suspect identified      NaN  \n",
      "2      Investigation complete; no suspect identified      NaN  \n",
      "3                                   Local resolution      NaN  \n",
      "4                                                NaN      NaN  \n",
      "...                                              ...      ...  \n",
      "85823                            Under investigation      NaN  \n",
      "85824                            Under investigation      NaN  \n",
      "85825                            Under investigation      NaN  \n",
      "85826                            Under investigation      NaN  \n",
      "85827                            Under investigation      NaN  \n",
      "\n",
      "[3371273 rows x 12 columns]\n"
     ]
    }
   ],
   "source": [
    "df = []\n",
    "\n",
    "for one_file in glob.glob(\"*.csv\"):\n",
    "    new_df = pd.read_csv(one_file)\n",
    "    df.append(new_df)\n",
    "\n",
    "df = pd.concat(df)\n",
    "print(df)"
   ]
  },
  {
   "cell_type": "code",
   "execution_count": 4,
   "id": "2c09733f",
   "metadata": {},
   "outputs": [
    {
     "data": {
      "text/plain": [
       "(3371273, 12)"
      ]
     },
     "execution_count": 4,
     "metadata": {},
     "output_type": "execute_result"
    }
   ],
   "source": [
    "#Shape of the dataset\n",
    "df.shape"
   ]
  },
  {
   "cell_type": "code",
   "execution_count": 5,
   "id": "52bbd35a",
   "metadata": {},
   "outputs": [
    {
     "data": {
      "text/html": [
       "<div>\n",
       "<style scoped>\n",
       "    .dataframe tbody tr th:only-of-type {\n",
       "        vertical-align: middle;\n",
       "    }\n",
       "\n",
       "    .dataframe tbody tr th {\n",
       "        vertical-align: top;\n",
       "    }\n",
       "\n",
       "    .dataframe thead th {\n",
       "        text-align: right;\n",
       "    }\n",
       "</style>\n",
       "<table border=\"1\" class=\"dataframe\">\n",
       "  <thead>\n",
       "    <tr style=\"text-align: right;\">\n",
       "      <th></th>\n",
       "      <th>Crime ID</th>\n",
       "      <th>Month</th>\n",
       "      <th>Reported by</th>\n",
       "      <th>Falls within</th>\n",
       "      <th>Longitude</th>\n",
       "      <th>Latitude</th>\n",
       "      <th>Location</th>\n",
       "      <th>LSOA code</th>\n",
       "      <th>LSOA name</th>\n",
       "      <th>Crime type</th>\n",
       "      <th>Last outcome category</th>\n",
       "      <th>Context</th>\n",
       "    </tr>\n",
       "  </thead>\n",
       "  <tbody>\n",
       "    <tr>\n",
       "      <th>0</th>\n",
       "      <td>NaN</td>\n",
       "      <td>2019-10</td>\n",
       "      <td>City of London Police</td>\n",
       "      <td>City of London Police</td>\n",
       "      <td>-0.111497</td>\n",
       "      <td>51.518226</td>\n",
       "      <td>On or near Pedestrian Subway</td>\n",
       "      <td>E01000914</td>\n",
       "      <td>Camden 028B</td>\n",
       "      <td>Anti-social behaviour</td>\n",
       "      <td>NaN</td>\n",
       "      <td>NaN</td>\n",
       "    </tr>\n",
       "    <tr>\n",
       "      <th>1</th>\n",
       "      <td>347cacb0d02bdb756998b54d7487407bcf6f171ba72f6c...</td>\n",
       "      <td>2019-10</td>\n",
       "      <td>City of London Police</td>\n",
       "      <td>City of London Police</td>\n",
       "      <td>-0.112422</td>\n",
       "      <td>51.515381</td>\n",
       "      <td>On or near Star Yard</td>\n",
       "      <td>E01000914</td>\n",
       "      <td>Camden 028B</td>\n",
       "      <td>Other theft</td>\n",
       "      <td>Investigation complete; no suspect identified</td>\n",
       "      <td>NaN</td>\n",
       "    </tr>\n",
       "    <tr>\n",
       "      <th>2</th>\n",
       "      <td>a53440d933613bf927349c9af506c2a2e49bb72786fefd...</td>\n",
       "      <td>2019-10</td>\n",
       "      <td>City of London Police</td>\n",
       "      <td>City of London Police</td>\n",
       "      <td>-0.111497</td>\n",
       "      <td>51.518226</td>\n",
       "      <td>On or near Pedestrian Subway</td>\n",
       "      <td>E01000914</td>\n",
       "      <td>Camden 028B</td>\n",
       "      <td>Other theft</td>\n",
       "      <td>Investigation complete; no suspect identified</td>\n",
       "      <td>NaN</td>\n",
       "    </tr>\n",
       "    <tr>\n",
       "      <th>3</th>\n",
       "      <td>24a8afd5512e09b44b272db7bee560cb458fc718a11ed7...</td>\n",
       "      <td>2019-10</td>\n",
       "      <td>City of London Police</td>\n",
       "      <td>City of London Police</td>\n",
       "      <td>-0.111962</td>\n",
       "      <td>51.518494</td>\n",
       "      <td>On or near Nightclub</td>\n",
       "      <td>E01000914</td>\n",
       "      <td>Camden 028B</td>\n",
       "      <td>Violence and sexual offences</td>\n",
       "      <td>Local resolution</td>\n",
       "      <td>NaN</td>\n",
       "    </tr>\n",
       "    <tr>\n",
       "      <th>4</th>\n",
       "      <td>NaN</td>\n",
       "      <td>2019-10</td>\n",
       "      <td>City of London Police</td>\n",
       "      <td>City of London Police</td>\n",
       "      <td>-0.095914</td>\n",
       "      <td>51.520348</td>\n",
       "      <td>On or near Beech Street</td>\n",
       "      <td>E01000001</td>\n",
       "      <td>City of London 001A</td>\n",
       "      <td>Anti-social behaviour</td>\n",
       "      <td>NaN</td>\n",
       "      <td>NaN</td>\n",
       "    </tr>\n",
       "  </tbody>\n",
       "</table>\n",
       "</div>"
      ],
      "text/plain": [
       "                                            Crime ID    Month  \\\n",
       "0                                                NaN  2019-10   \n",
       "1  347cacb0d02bdb756998b54d7487407bcf6f171ba72f6c...  2019-10   \n",
       "2  a53440d933613bf927349c9af506c2a2e49bb72786fefd...  2019-10   \n",
       "3  24a8afd5512e09b44b272db7bee560cb458fc718a11ed7...  2019-10   \n",
       "4                                                NaN  2019-10   \n",
       "\n",
       "             Reported by           Falls within  Longitude   Latitude  \\\n",
       "0  City of London Police  City of London Police  -0.111497  51.518226   \n",
       "1  City of London Police  City of London Police  -0.112422  51.515381   \n",
       "2  City of London Police  City of London Police  -0.111497  51.518226   \n",
       "3  City of London Police  City of London Police  -0.111962  51.518494   \n",
       "4  City of London Police  City of London Police  -0.095914  51.520348   \n",
       "\n",
       "                       Location  LSOA code            LSOA name  \\\n",
       "0  On or near Pedestrian Subway  E01000914          Camden 028B   \n",
       "1          On or near Star Yard  E01000914          Camden 028B   \n",
       "2  On or near Pedestrian Subway  E01000914          Camden 028B   \n",
       "3          On or near Nightclub  E01000914          Camden 028B   \n",
       "4       On or near Beech Street  E01000001  City of London 001A   \n",
       "\n",
       "                     Crime type  \\\n",
       "0         Anti-social behaviour   \n",
       "1                   Other theft   \n",
       "2                   Other theft   \n",
       "3  Violence and sexual offences   \n",
       "4         Anti-social behaviour   \n",
       "\n",
       "                           Last outcome category  Context  \n",
       "0                                            NaN      NaN  \n",
       "1  Investigation complete; no suspect identified      NaN  \n",
       "2  Investigation complete; no suspect identified      NaN  \n",
       "3                               Local resolution      NaN  \n",
       "4                                            NaN      NaN  "
      ]
     },
     "execution_count": 5,
     "metadata": {},
     "output_type": "execute_result"
    }
   ],
   "source": [
    "df.head()"
   ]
  },
  {
   "cell_type": "code",
   "execution_count": 6,
   "id": "37c54e9c",
   "metadata": {},
   "outputs": [
    {
     "data": {
      "text/plain": [
       "Crime ID                  object\n",
       "Month                     object\n",
       "Reported by               object\n",
       "Falls within              object\n",
       "Longitude                float64\n",
       "Latitude                 float64\n",
       "Location                  object\n",
       "LSOA code                 object\n",
       "LSOA name                 object\n",
       "Crime type                object\n",
       "Last outcome category     object\n",
       "Context                  float64\n",
       "dtype: object"
      ]
     },
     "execution_count": 6,
     "metadata": {},
     "output_type": "execute_result"
    }
   ],
   "source": [
    "#datatype of all columns of the dataset\n",
    "df.dtypes"
   ]
  },
  {
   "cell_type": "markdown",
   "id": "d0a698f8",
   "metadata": {},
   "source": [
    "The 'LSOA name' column also has more specific location addresses on each borough which isn't necessary for analysis under this project. The extra information from all the rows will be stripped so plotting the data can be made easier for crimes across each borough. "
   ]
  },
  {
   "cell_type": "code",
   "execution_count": 7,
   "id": "992701a9",
   "metadata": {},
   "outputs": [],
   "source": [
    "df['LSOA name'] = df['LSOA name'].str[:-5]"
   ]
  },
  {
   "cell_type": "code",
   "execution_count": 8,
   "id": "241e34f2",
   "metadata": {},
   "outputs": [
    {
     "data": {
      "text/html": [
       "<div>\n",
       "<style scoped>\n",
       "    .dataframe tbody tr th:only-of-type {\n",
       "        vertical-align: middle;\n",
       "    }\n",
       "\n",
       "    .dataframe tbody tr th {\n",
       "        vertical-align: top;\n",
       "    }\n",
       "\n",
       "    .dataframe thead th {\n",
       "        text-align: right;\n",
       "    }\n",
       "</style>\n",
       "<table border=\"1\" class=\"dataframe\">\n",
       "  <thead>\n",
       "    <tr style=\"text-align: right;\">\n",
       "      <th></th>\n",
       "      <th>Crime ID</th>\n",
       "      <th>Month</th>\n",
       "      <th>Reported by</th>\n",
       "      <th>Falls within</th>\n",
       "      <th>Longitude</th>\n",
       "      <th>Latitude</th>\n",
       "      <th>Location</th>\n",
       "      <th>LSOA code</th>\n",
       "      <th>LSOA name</th>\n",
       "      <th>Crime type</th>\n",
       "      <th>Last outcome category</th>\n",
       "      <th>Context</th>\n",
       "    </tr>\n",
       "  </thead>\n",
       "  <tbody>\n",
       "    <tr>\n",
       "      <th>0</th>\n",
       "      <td>NaN</td>\n",
       "      <td>2019-10</td>\n",
       "      <td>City of London Police</td>\n",
       "      <td>City of London Police</td>\n",
       "      <td>-0.111497</td>\n",
       "      <td>51.518226</td>\n",
       "      <td>On or near Pedestrian Subway</td>\n",
       "      <td>E01000914</td>\n",
       "      <td>Camden</td>\n",
       "      <td>Anti-social behaviour</td>\n",
       "      <td>NaN</td>\n",
       "      <td>NaN</td>\n",
       "    </tr>\n",
       "    <tr>\n",
       "      <th>1</th>\n",
       "      <td>347cacb0d02bdb756998b54d7487407bcf6f171ba72f6c...</td>\n",
       "      <td>2019-10</td>\n",
       "      <td>City of London Police</td>\n",
       "      <td>City of London Police</td>\n",
       "      <td>-0.112422</td>\n",
       "      <td>51.515381</td>\n",
       "      <td>On or near Star Yard</td>\n",
       "      <td>E01000914</td>\n",
       "      <td>Camden</td>\n",
       "      <td>Other theft</td>\n",
       "      <td>Investigation complete; no suspect identified</td>\n",
       "      <td>NaN</td>\n",
       "    </tr>\n",
       "    <tr>\n",
       "      <th>2</th>\n",
       "      <td>a53440d933613bf927349c9af506c2a2e49bb72786fefd...</td>\n",
       "      <td>2019-10</td>\n",
       "      <td>City of London Police</td>\n",
       "      <td>City of London Police</td>\n",
       "      <td>-0.111497</td>\n",
       "      <td>51.518226</td>\n",
       "      <td>On or near Pedestrian Subway</td>\n",
       "      <td>E01000914</td>\n",
       "      <td>Camden</td>\n",
       "      <td>Other theft</td>\n",
       "      <td>Investigation complete; no suspect identified</td>\n",
       "      <td>NaN</td>\n",
       "    </tr>\n",
       "    <tr>\n",
       "      <th>3</th>\n",
       "      <td>24a8afd5512e09b44b272db7bee560cb458fc718a11ed7...</td>\n",
       "      <td>2019-10</td>\n",
       "      <td>City of London Police</td>\n",
       "      <td>City of London Police</td>\n",
       "      <td>-0.111962</td>\n",
       "      <td>51.518494</td>\n",
       "      <td>On or near Nightclub</td>\n",
       "      <td>E01000914</td>\n",
       "      <td>Camden</td>\n",
       "      <td>Violence and sexual offences</td>\n",
       "      <td>Local resolution</td>\n",
       "      <td>NaN</td>\n",
       "    </tr>\n",
       "    <tr>\n",
       "      <th>4</th>\n",
       "      <td>NaN</td>\n",
       "      <td>2019-10</td>\n",
       "      <td>City of London Police</td>\n",
       "      <td>City of London Police</td>\n",
       "      <td>-0.095914</td>\n",
       "      <td>51.520348</td>\n",
       "      <td>On or near Beech Street</td>\n",
       "      <td>E01000001</td>\n",
       "      <td>City of London</td>\n",
       "      <td>Anti-social behaviour</td>\n",
       "      <td>NaN</td>\n",
       "      <td>NaN</td>\n",
       "    </tr>\n",
       "  </tbody>\n",
       "</table>\n",
       "</div>"
      ],
      "text/plain": [
       "                                            Crime ID    Month  \\\n",
       "0                                                NaN  2019-10   \n",
       "1  347cacb0d02bdb756998b54d7487407bcf6f171ba72f6c...  2019-10   \n",
       "2  a53440d933613bf927349c9af506c2a2e49bb72786fefd...  2019-10   \n",
       "3  24a8afd5512e09b44b272db7bee560cb458fc718a11ed7...  2019-10   \n",
       "4                                                NaN  2019-10   \n",
       "\n",
       "             Reported by           Falls within  Longitude   Latitude  \\\n",
       "0  City of London Police  City of London Police  -0.111497  51.518226   \n",
       "1  City of London Police  City of London Police  -0.112422  51.515381   \n",
       "2  City of London Police  City of London Police  -0.111497  51.518226   \n",
       "3  City of London Police  City of London Police  -0.111962  51.518494   \n",
       "4  City of London Police  City of London Police  -0.095914  51.520348   \n",
       "\n",
       "                       Location  LSOA code       LSOA name  \\\n",
       "0  On or near Pedestrian Subway  E01000914          Camden   \n",
       "1          On or near Star Yard  E01000914          Camden   \n",
       "2  On or near Pedestrian Subway  E01000914          Camden   \n",
       "3          On or near Nightclub  E01000914          Camden   \n",
       "4       On or near Beech Street  E01000001  City of London   \n",
       "\n",
       "                     Crime type  \\\n",
       "0         Anti-social behaviour   \n",
       "1                   Other theft   \n",
       "2                   Other theft   \n",
       "3  Violence and sexual offences   \n",
       "4         Anti-social behaviour   \n",
       "\n",
       "                           Last outcome category  Context  \n",
       "0                                            NaN      NaN  \n",
       "1  Investigation complete; no suspect identified      NaN  \n",
       "2  Investigation complete; no suspect identified      NaN  \n",
       "3                               Local resolution      NaN  \n",
       "4                                            NaN      NaN  "
      ]
     },
     "execution_count": 8,
     "metadata": {},
     "output_type": "execute_result"
    }
   ],
   "source": [
    "df.head()"
   ]
  },
  {
   "cell_type": "markdown",
   "id": "6a24f033",
   "metadata": {},
   "source": [
    "## 2.4 Remove Redundant Columns\n",
    "\n"
   ]
  },
  {
   "cell_type": "code",
   "execution_count": 9,
   "id": "194fecc5",
   "metadata": {},
   "outputs": [
    {
     "data": {
      "text/plain": [
       "Crime ID                  963365\n",
       "Month                          0\n",
       "Reported by                    0\n",
       "Falls within                   0\n",
       "Longitude                  44406\n",
       "Latitude                   44406\n",
       "Location                       0\n",
       "LSOA code                  44406\n",
       "LSOA name                  44406\n",
       "Crime type                     0\n",
       "Last outcome category     963365\n",
       "Context                  3371273\n",
       "dtype: int64"
      ]
     },
     "execution_count": 9,
     "metadata": {},
     "output_type": "execute_result"
    }
   ],
   "source": [
    "#Finding the sum of null values in each colum\n",
    "df.isnull().sum()"
   ]
  },
  {
   "cell_type": "markdown",
   "id": "1788eef7",
   "metadata": {},
   "source": [
    "On manually analyzing the above table, it can be seen that the 'Context' column is empty for the entire dataset. Since the column is empty, it makes sense to remove it from the dataset. "
   ]
  },
  {
   "cell_type": "code",
   "execution_count": 10,
   "id": "1e288867",
   "metadata": {},
   "outputs": [],
   "source": [
    "#Dropping Context Column\n",
    "df = df.drop('Context', axis=1)"
   ]
  },
  {
   "cell_type": "markdown",
   "id": "673a256a",
   "metadata": {},
   "source": [
    "The values for both 'Reported by' and 'Falls Within' column are the same, i.e. the cases are reported by their respect jurisdiction. Because this information isn't useful for analysis, both the columns will be removed from the dataframe. "
   ]
  },
  {
   "cell_type": "code",
   "execution_count": 11,
   "id": "50c588d5",
   "metadata": {},
   "outputs": [],
   "source": [
    "df = df.drop(['Reported by','Falls within'], axis=1)"
   ]
  },
  {
   "cell_type": "code",
   "execution_count": 12,
   "id": "a2e4d850",
   "metadata": {},
   "outputs": [
    {
     "data": {
      "text/plain": [
       "Index(['Crime ID', 'Month', 'Longitude', 'Latitude', 'Location', 'LSOA code',\n",
       "       'LSOA name', 'Crime type', 'Last outcome category'],\n",
       "      dtype='object')"
      ]
     },
     "execution_count": 12,
     "metadata": {},
     "output_type": "execute_result"
    }
   ],
   "source": [
    "# checking the result by displaying columns \n",
    "df.columns"
   ]
  },
  {
   "cell_type": "markdown",
   "id": "be50ef03",
   "metadata": {},
   "source": [
    "After removing redundant columns, there are 9 columns left:\n",
    "\n",
    "- Crime ID: Unique ID of the reported crime\n",
    "- Month: the month and year of the crime\n",
    "- Longitude\n",
    "- Latitude\n",
    "- Location: Specifies the nearest landmark\n",
    "- LSOA code: this represents a policing area\n",
    "- LSOA name: the london borough for which the statistic is related\n",
    "- Crime type: crime category\n",
    "- Last outcome category: Outcome of the reported case"
   ]
  },
  {
   "cell_type": "markdown",
   "id": "703184cf",
   "metadata": {},
   "source": [
    "## 2.5 Remove Duplicates"
   ]
  },
  {
   "cell_type": "code",
   "execution_count": 13,
   "id": "271d9b31",
   "metadata": {},
   "outputs": [],
   "source": [
    "#Will get rid of any duplicate cases reported in the table\n",
    "df = df.drop_duplicates()"
   ]
  },
  {
   "cell_type": "code",
   "execution_count": 14,
   "id": "9af7bf16",
   "metadata": {},
   "outputs": [
    {
     "data": {
      "text/plain": [
       "(2834789, 9)"
      ]
     },
     "execution_count": 14,
     "metadata": {},
     "output_type": "execute_result"
    }
   ],
   "source": [
    "df.shape"
   ]
  },
  {
   "cell_type": "markdown",
   "id": "5d511356",
   "metadata": {},
   "source": [
    "## 2.6 Remove wrong data\n",
    "\n",
    "Most files under the Metropolitan police force have data from boroughs that don't fall under London. London has 33 borough in total. Outliers (crimes of locations that don't fall under London) will be removed by web scrapping a list of London boroughs and comparing them to the 'LSOA name'. Any row that doesn't fall under London borough will be removed from the dataframe(df)."
   ]
  },
  {
   "cell_type": "code",
   "execution_count": 15,
   "id": "45bbea10",
   "metadata": {},
   "outputs": [
    {
     "name": "stdout",
     "output_type": "stream",
     "text": [
      "200\n"
     ]
    }
   ],
   "source": [
    "# Beautiful Soup library will be used to get the response in the form of html\n",
    "\n",
    "London_council = \"https://en.wikipedia.org/wiki/List_of_London_boroughs\"\n",
    "table_class=\"wikitable sortable jquery-tablesorter\"\n",
    "\n",
    "# Code to check if website allows web scrapping\n",
    "response=requests.get(London_council)\n",
    "print(response.status_code)"
   ]
  },
  {
   "cell_type": "code",
   "execution_count": 16,
   "id": "ad0e06b3",
   "metadata": {},
   "outputs": [],
   "source": [
    "# parse data from the html into a beautifulsoup object\n",
    "\n",
    "soup = BeautifulSoup(response.text, 'html.parser')\n",
    "Borough_table=soup.find('table',{'class':\"wikitable\"})"
   ]
  },
  {
   "cell_type": "code",
   "execution_count": 17,
   "id": "b264139e",
   "metadata": {},
   "outputs": [
    {
     "name": "stdout",
     "output_type": "stream",
     "text": [
      "                        Borough Inner Status  \\\n",
      "0  Barking and Dagenham[note 1]   NaN    NaN   \n",
      "1                        Barnet   NaN    NaN   \n",
      "2                        Bexley   NaN    NaN   \n",
      "3                         Brent   NaN    NaN   \n",
      "4                       Bromley   NaN    NaN   \n",
      "\n",
      "                               Local authority Political control  \\\n",
      "0  Barking and Dagenham London Borough Council            Labour   \n",
      "1                Barnet London Borough Council            Labour   \n",
      "2                Bexley London Borough Council      Conservative   \n",
      "3                 Brent London Borough Council            Labour   \n",
      "4               Bromley London Borough Council      Conservative   \n",
      "\n",
      "                                Headquarters  Area (sq mi)  \\\n",
      "0                   Town Hall, 1 Town Square         13.93   \n",
      "1  Barnet House, 2 Bristol Avenue, Colindale         33.49   \n",
      "2            Civic Offices, 2 Watling Street         23.38   \n",
      "3          Brent Civic Centre, Engineers Way         16.70   \n",
      "4              Civic Centre, Stockwell Close         57.97   \n",
      "\n",
      "   Population(2019 est)                                       Co-ordinates  \\\n",
      "0                212906  .mw-parser-output .geo-default,.mw-parser-outp...   \n",
      "1                395896        51°37′31″N 0°09′06″W﻿ / ﻿51.6252°N 0.1517°W   \n",
      "2                248287        51°27′18″N 0°09′02″E﻿ / ﻿51.4549°N 0.1505°E   \n",
      "3                329771        51°33′32″N 0°16′54″W﻿ / ﻿51.5588°N 0.2817°W   \n",
      "4                332336        51°24′14″N 0°01′11″E﻿ / ﻿51.4039°N 0.0198°E   \n",
      "\n",
      "   Nr. inmap  \n",
      "0         25  \n",
      "1         31  \n",
      "2         23  \n",
      "3         12  \n",
      "4         20  \n"
     ]
    }
   ],
   "source": [
    "df1=pd.read_html(str(Borough_table))\n",
    "\n",
    "# convert list to dataframe\n",
    "df1=pd.DataFrame(df1[0])\n",
    "print(df1.head())"
   ]
  },
  {
   "cell_type": "code",
   "execution_count": 18,
   "id": "699e8dd1",
   "metadata": {},
   "outputs": [],
   "source": [
    "#Dropping all other coloums since they aren't of any use for this EDA. \n",
    "df1 = df1.drop(['Inner', 'Status', 'Local authority', 'Political control',\n",
    "       'Headquarters', 'Area (sq mi)', 'Population(2019 est)', 'Co-ordinates',\n",
    "       'Nr. inmap'], axis=1)"
   ]
  },
  {
   "cell_type": "code",
   "execution_count": 19,
   "id": "7335beb4",
   "metadata": {},
   "outputs": [
    {
     "name": "stdout",
     "output_type": "stream",
     "text": [
      "                   Borough\n",
      "0     Barking and Dagenham\n",
      "1                   Barnet\n",
      "2                   Bexley\n",
      "3                    Brent\n",
      "4                  Bromley\n",
      "5                   Camden\n",
      "6                  Croydon\n",
      "7                   Ealing\n",
      "8                  Enfield\n",
      "9                Greenwich\n",
      "10                 Hackney\n",
      "11  Hammersmith and Fulham\n",
      "12                Haringey\n",
      "13                  Harrow\n",
      "14                Havering\n",
      "15              Hillingdon\n",
      "16                Hounslow\n",
      "17               Islington\n",
      "18  Kensington and Chelsea\n",
      "19    Kingston upon Thames\n",
      "20                 Lambeth\n",
      "21                Lewisham\n",
      "22                  Merton\n",
      "23                  Newham\n",
      "24               Redbridge\n",
      "25    Richmond upon Thames\n",
      "26               Southwark\n",
      "27                  Sutton\n",
      "28           Tower Hamlets\n",
      "29          Waltham Forest\n",
      "30              Wandsworth\n",
      "31             Westminster\n"
     ]
    }
   ],
   "source": [
    "#Remove redundant data from specific indexes\n",
    "\n",
    "for index in df1.index:\n",
    "    if df1.loc[index,'Borough']=='Barking and Dagenham[note 1]':\n",
    "        df1.loc[index,'Borough'] = 'Barking and Dagenham'\n",
    "    elif df1.loc[index,'Borough']=='Greenwich[note 2]':\n",
    "        df1.loc[index,'Borough'] = 'Greenwich'\n",
    "    elif df1.loc[index,'Borough']=='Hammersmith and Fulham[note 4]':\n",
    "        df1.loc[index,'Borough'] = 'Hammersmith and Fulham'\n",
    "        \n",
    "print(df1)"
   ]
  },
  {
   "cell_type": "markdown",
   "id": "540cacfe",
   "metadata": {},
   "source": [
    "London has 32 boroughs and a seprate City of London Corporation that falls under London but isn't a borough. Thus, the value is excluded from 'df1' but will be included during analysis.  "
   ]
  },
  {
   "cell_type": "markdown",
   "id": "1e98a15d",
   "metadata": {},
   "source": [
    "## 2.7 Handle Missing Values"
   ]
  },
  {
   "cell_type": "code",
   "execution_count": 20,
   "id": "05c9f028",
   "metadata": {},
   "outputs": [
    {
     "data": {
      "text/plain": [
       "Crime ID                 462207\n",
       "Month                         0\n",
       "Longitude                 43417\n",
       "Latitude                  43417\n",
       "Location                      0\n",
       "LSOA code                 43417\n",
       "LSOA name                 43417\n",
       "Crime type                    0\n",
       "Last outcome category    462207\n",
       "dtype: int64"
      ]
     },
     "execution_count": 20,
     "metadata": {},
     "output_type": "execute_result"
    }
   ],
   "source": [
    "df.isnull().sum()"
   ]
  },
  {
   "cell_type": "markdown",
   "id": "67e60103",
   "metadata": {},
   "source": [
    "'Crime ID' and 'Last outcome category' are missing data in 462,207 rows and location specific data (Longitude, Latitude, LSOA name, and LSOA code) is missing for 43,417 cases.\n",
    "\n",
    "However, in case of missing 'Location' data, rather than having a null value, it's been marked as 'No location' in the primary dataset. Any instance of 'No location' will be changed to null value through the Numpy Python Library to improve the quality of data and for better analysis.\n"
   ]
  },
  {
   "cell_type": "code",
   "execution_count": 21,
   "id": "cbc055eb",
   "metadata": {},
   "outputs": [
    {
     "data": {
      "text/plain": [
       "Crime ID                 462207\n",
       "Month                         0\n",
       "Longitude                 43417\n",
       "Latitude                  43417\n",
       "Location                  43417\n",
       "LSOA code                 43417\n",
       "LSOA name                 43417\n",
       "Crime type                    0\n",
       "Last outcome category    462207\n",
       "dtype: int64"
      ]
     },
     "execution_count": 21,
     "metadata": {},
     "output_type": "execute_result"
    }
   ],
   "source": [
    "# Passing null value in case of 'No location' data in 'Location' column\n",
    "\n",
    "df['Location'] = df['Location'].replace(to_replace=\"No Location\",\n",
    "           value=np.nan)\n",
    "\n",
    "# Checking if missing 'Location' data has been updated as a null value\n",
    "df.isnull().sum()"
   ]
  },
  {
   "cell_type": "markdown",
   "id": "1a34beef",
   "metadata": {},
   "source": [
    "Cases with no information regarding their location will not be useful to determine the frequency of crimes across boroughs. However, the rows with missing location information do have details about the crime type which might be useful for further analysis. \n",
    "\n",
    "Thus, a new dataframe will be created where rows with missing data in these ('Location', 'Longitude', 'Latitude', 'LSOA code','LSOA name') columns will be dropped. EDA will be done on this data for coursework 1. "
   ]
  },
  {
   "cell_type": "code",
   "execution_count": 22,
   "id": "416fa382",
   "metadata": {
    "scrolled": true
   },
   "outputs": [
    {
     "data": {
      "text/plain": [
       "Crime ID                 462171\n",
       "Month                         0\n",
       "Longitude                     0\n",
       "Latitude                      0\n",
       "Location                      0\n",
       "LSOA code                     0\n",
       "LSOA name                     0\n",
       "Crime type                    0\n",
       "Last outcome category    462171\n",
       "dtype: int64"
      ]
     },
     "execution_count": 22,
     "metadata": {},
     "output_type": "execute_result"
    }
   ],
   "source": [
    "# Creating a new dataframe while dropping cases will null location values\n",
    "\n",
    "df2 = df.dropna(subset=['Location', 'Longitude', 'Latitude', 'LSOA code','LSOA name'], how='all')\n",
    "\n",
    "df2.isnull().sum()"
   ]
  },
  {
   "cell_type": "markdown",
   "id": "8e40af73",
   "metadata": {},
   "source": [
    "A quick view of missing data depicts that the number of missing 'Case ID' is same as the null values in 'Last Outcome category.'\n"
   ]
  },
  {
   "cell_type": "markdown",
   "id": "40463ecf",
   "metadata": {},
   "source": [
    "## 4.Limitations\n",
    "\n",
    "There is one drawback of this dataset that the datasets for June 2022 for City of London is missing. I’ll try to web scrape this data to fill the missing information. \n"
   ]
  },
  {
   "cell_type": "markdown",
   "id": "8f784841",
   "metadata": {},
   "source": [
    "## 5. Future work\n",
    "\n",
    "#### 5.1 Unemployment Rate by Ethnic Group, Nationality, and Borough\n",
    "The second dataset is the Unemployment Rate by Ethnic Group & Nationality, Borough, and was obtained from (data.london.govuk). The dataset contains unemployment rates broken down by ethnic group from the year 2020 to 2022. The data istaken from the Annual Population Survey, produced by the Office for National Statistics. For this analysis to be effective and match the other datasets the year 2020 to 2022 will be selected.\n",
    "\n",
    "#### 5.2 Homelessness\n",
    "The third dataset is the homelessness provided by borough obtained from ([www.data.london.gov.uk](http://www.data.london.gov.uk/)). The dataset contains homelessness rates broken down by ethnic group from the year 2020 to 2022 and Source from DCLG P1E Homelessness returns (quarterly). It’s essential for the analysis that the dataset is the same which is why the year 2020 to 2022 was selected.\n",
    "\n",
    "#### 5.3 Employees earning below the London Living Wage\n",
    "The fourth and final dataset is Employees earning below the London Living Wage obtained from ([www.data.london.gov.uk](http://www.data.london.gov.uk/)). Data is also provided by borough from 2020 to 2022 including employees earning below the UK Living Wage by region in London. Like the other dataset the year 2020 to 2022 was selected."
   ]
  },
  {
   "cell_type": "code",
   "execution_count": null,
   "id": "52fe6b34",
   "metadata": {},
   "outputs": [],
   "source": []
  }
 ],
 "metadata": {
  "kernelspec": {
   "display_name": "Python 3 (ipykernel)",
   "language": "python",
   "name": "python3"
  },
  "language_info": {
   "codemirror_mode": {
    "name": "ipython",
    "version": 3
   },
   "file_extension": ".py",
   "mimetype": "text/x-python",
   "name": "python",
   "nbconvert_exporter": "python",
   "pygments_lexer": "ipython3",
   "version": "3.9.12"
  }
 },
 "nbformat": 4,
 "nbformat_minor": 5
}
